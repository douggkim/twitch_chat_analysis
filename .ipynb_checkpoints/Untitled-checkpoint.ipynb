{
 "cells": [
  {
   "cell_type": "code",
   "execution_count": 15,
   "id": "163069f3-b670-48f7-bd7a-3d423d074a23",
   "metadata": {},
   "outputs": [
    {
     "ename": "KeyError",
     "evalue": "'TWITCH_CLIENT_ID'",
     "output_type": "error",
     "traceback": [
      "\u001b[0;31m---------------------------------------------------------------------------\u001b[0m",
      "\u001b[0;31mKeyError\u001b[0m                                  Traceback (most recent call last)",
      "Input \u001b[0;32mIn [15]\u001b[0m, in \u001b[0;36m<cell line: 11>\u001b[0;34m()\u001b[0m\n\u001b[1;32m      9\u001b[0m \u001b[38;5;66;03m# Set up the API endpoint URL and your Twitch application client ID and secret\u001b[39;00m\n\u001b[1;32m     10\u001b[0m url \u001b[38;5;241m=\u001b[39m \u001b[38;5;124m'\u001b[39m\u001b[38;5;124mhttps://id.twitch.tv/oauth2/token\u001b[39m\u001b[38;5;124m'\u001b[39m\n\u001b[0;32m---> 11\u001b[0m client_id \u001b[38;5;241m=\u001b[39m \u001b[43mos\u001b[49m\u001b[38;5;241;43m.\u001b[39;49m\u001b[43menviron\u001b[49m\u001b[43m[\u001b[49m\u001b[38;5;124;43m\"\u001b[39;49m\u001b[38;5;124;43mTWITCH_CLIENT_ID\u001b[39;49m\u001b[38;5;124;43m\"\u001b[39;49m\u001b[43m]\u001b[49m\n\u001b[1;32m     12\u001b[0m client_secret \u001b[38;5;241m=\u001b[39m os\u001b[38;5;241m.\u001b[39menviron[\u001b[38;5;124m\"\u001b[39m\u001b[38;5;124mTWITCH_CLIENT_SECRET\u001b[39m\u001b[38;5;124m\"\u001b[39m]\n\u001b[1;32m     13\u001b[0m SNOWFLAKE_USER \u001b[38;5;241m=\u001b[39m os\u001b[38;5;241m.\u001b[39menviron[\u001b[38;5;124m\"\u001b[39m\u001b[38;5;124mSNOWFLAKE_USER\u001b[39m\u001b[38;5;124m\"\u001b[39m]\n",
      "File \u001b[0;32m~/opt/anaconda3/lib/python3.9/os.py:679\u001b[0m, in \u001b[0;36m_Environ.__getitem__\u001b[0;34m(self, key)\u001b[0m\n\u001b[1;32m    676\u001b[0m     value \u001b[38;5;241m=\u001b[39m \u001b[38;5;28mself\u001b[39m\u001b[38;5;241m.\u001b[39m_data[\u001b[38;5;28mself\u001b[39m\u001b[38;5;241m.\u001b[39mencodekey(key)]\n\u001b[1;32m    677\u001b[0m \u001b[38;5;28;01mexcept\u001b[39;00m \u001b[38;5;167;01mKeyError\u001b[39;00m:\n\u001b[1;32m    678\u001b[0m     \u001b[38;5;66;03m# raise KeyError with the original key value\u001b[39;00m\n\u001b[0;32m--> 679\u001b[0m     \u001b[38;5;28;01mraise\u001b[39;00m \u001b[38;5;167;01mKeyError\u001b[39;00m(key) \u001b[38;5;28;01mfrom\u001b[39;00m \u001b[38;5;28mNone\u001b[39m\n\u001b[1;32m    680\u001b[0m \u001b[38;5;28;01mreturn\u001b[39;00m \u001b[38;5;28mself\u001b[39m\u001b[38;5;241m.\u001b[39mdecodevalue(value)\n",
      "\u001b[0;31mKeyError\u001b[0m: 'TWITCH_CLIENT_ID'"
     ]
    }
   ],
   "source": [
    "import requests\n",
    "import pandas as pd \n",
    "import json \n",
    "import save_to_snowflake\n",
    "import os \n",
    "\n",
    "\n",
    "\n",
    "# Set up the API endpoint URL and your Twitch application client ID and secret\n",
    "url = 'https://id.twitch.tv/oauth2/token'\n",
    "client_id = os.environ[\"TWITCH_CLIENT_ID\"]\n",
    "client_secret = os.environ[\"TWITCH_CLIENT_SECRET\"]\n",
    "SNOWFLAKE_USER = os.environ[\"SNOWFLAKE_USER\"]\n",
    "SNOWFLAKE_PW = os.environ[\"SNOWFLAKE_PW\"]\n",
    "\n",
    "params = {\n",
    "    'client_id': client_id,\n",
    "    'client_secret': client_secret,\n",
    "    'grant_type': 'client_credentials',\n",
    "    'scope': 'channel_subscriptions'\n",
    "}\n",
    "\n",
    "# Send the authentication request\n",
    "response = requests.post(url, params=params)\n",
    "\n",
    "# Extract the access token from the response\n",
    "token = response.json().get('access_token')\n",
    "\n",
    "# Set up the API endpoint URL and your Twitch API access token\n",
    "url = 'https://api.twitch.tv/helix/users'\n",
    "\n",
    "# Set up the request headers\n",
    "headers = {\n",
    "    'Client-ID': client_id,\n",
    "    'Authorization': f'Bearer {token}'\n",
    "}\n",
    "\n",
    "\n",
    "# Set up the API endpoint URL and your Twitch API access token\n",
    "url = 'https://api.twitch.tv/helix/chat/emotes/global'\n",
    "\n",
    "# Send the subscription lookup request\n",
    "response = requests.get(url, headers=headers)\n",
    "\n",
    "json_str = response.content.decode('utf-8')\n",
    "json_data = json.loads(json_str)\n"
   ]
  },
  {
   "cell_type": "code",
   "execution_count": 24,
   "id": "8b949835-d4ea-44b6-80b6-68d744df4337",
   "metadata": {},
   "outputs": [
    {
     "name": "stdout",
     "output_type": "stream",
     "text": [
      "\n"
     ]
    }
   ],
   "source": [
    "! echo $TWITCH_CLIENT_SECRET"
   ]
  },
  {
   "cell_type": "code",
   "execution_count": 27,
   "id": "d0dd9091-4d5f-48e7-97ae-0b1f281becb4",
   "metadata": {},
   "outputs": [],
   "source": [
    "! . /Users/dougkim/.zshrc"
   ]
  },
  {
   "cell_type": "code",
   "execution_count": null,
   "id": "89317d4e-de96-4f01-adb1-6502e7b2e6ec",
   "metadata": {},
   "outputs": [],
   "source": [
    "emoji_df = pd.DataFrame(json_data['data']).drop([\"images\",\"theme_mode\",\"scale\",\"format\"], axis=1)\n",
    "emoji_df[\"channel_name\"] = channel_name\n",
    "\n",
    "# Save the data to database\n",
    "dbengine = save_to_snowflake.set_up_engine(snowflake_schema='twitch_data',snowflake_database='stream_data_anal',snowflake_user=SNOWFLAKE_USER ,snowflake_password=SNOWFLAKE_PW, snowflake_account='MNB68659.us-west-2',snowflake_wh='compute_wh', snowflake_role=\"accountadmin\")\n",
    "emoji_df.to_sql(name=\"emojis\",con=dbengine, if_exists=\"replace\", index=False)\n",
    "\n",
    "\n"
   ]
  }
 ],
 "metadata": {
  "kernelspec": {
   "display_name": "Python 3 (ipykernel)",
   "language": "python",
   "name": "python3"
  },
  "language_info": {
   "codemirror_mode": {
    "name": "ipython",
    "version": 3
   },
   "file_extension": ".py",
   "mimetype": "text/x-python",
   "name": "python",
   "nbconvert_exporter": "python",
   "pygments_lexer": "ipython3",
   "version": "3.9.12"
  }
 },
 "nbformat": 4,
 "nbformat_minor": 5
}
